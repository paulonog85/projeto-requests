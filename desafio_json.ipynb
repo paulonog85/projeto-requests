{
 "cells": [
  {
   "cell_type": "markdown",
   "metadata": {},
   "source": [
    "Fazendo a requisição para extrair dados do perfil de usuário do GitHub. O nome de usuário da instrutora é \"millenagena\":"
   ]
  },
  {
   "cell_type": "code",
   "execution_count": 1,
   "metadata": {},
   "outputs": [
    {
     "data": {
      "text/plain": [
       "<Response [200]>"
      ]
     },
     "execution_count": 1,
     "metadata": {},
     "output_type": "execute_result"
    }
   ],
   "source": [
    "import requests\n",
    "\n",
    "r = requests.get('https://api.github.com/users/millenagena')\n",
    "r"
   ]
  },
  {
   "cell_type": "markdown",
   "metadata": {},
   "source": [
    "Conferindo as informações sobre a requisição realizada utilizando o objeto Response retornado:\n",
    "\n",
    "1 - Status code"
   ]
  },
  {
   "cell_type": "code",
   "execution_count": 2,
   "metadata": {},
   "outputs": [
    {
     "data": {
      "text/plain": [
       "200"
      ]
     },
     "execution_count": 2,
     "metadata": {},
     "output_type": "execute_result"
    }
   ],
   "source": [
    "r.status_code"
   ]
  },
  {
   "cell_type": "markdown",
   "metadata": {},
   "source": [
    "2 - Conteúdo da requisição\n",
    "\n",
    "Para visualizar o conteúdo em JSON:"
   ]
  },
  {
   "cell_type": "code",
   "execution_count": 3,
   "metadata": {},
   "outputs": [
    {
     "data": {
      "text/plain": [
       "{'login': 'millenagena',\n",
       " 'id': 69437878,\n",
       " 'node_id': 'MDQ6VXNlcjY5NDM3ODc4',\n",
       " 'avatar_url': 'https://avatars.githubusercontent.com/u/69437878?v=4',\n",
       " 'gravatar_id': '',\n",
       " 'url': 'https://api.github.com/users/millenagena',\n",
       " 'html_url': 'https://github.com/millenagena',\n",
       " 'followers_url': 'https://api.github.com/users/millenagena/followers',\n",
       " 'following_url': 'https://api.github.com/users/millenagena/following{/other_user}',\n",
       " 'gists_url': 'https://api.github.com/users/millenagena/gists{/gist_id}',\n",
       " 'starred_url': 'https://api.github.com/users/millenagena/starred{/owner}{/repo}',\n",
       " 'subscriptions_url': 'https://api.github.com/users/millenagena/subscriptions',\n",
       " 'organizations_url': 'https://api.github.com/users/millenagena/orgs',\n",
       " 'repos_url': 'https://api.github.com/users/millenagena/repos',\n",
       " 'events_url': 'https://api.github.com/users/millenagena/events{/privacy}',\n",
       " 'received_events_url': 'https://api.github.com/users/millenagena/received_events',\n",
       " 'type': 'User',\n",
       " 'user_view_type': 'public',\n",
       " 'site_admin': False,\n",
       " 'name': 'Millena Gená',\n",
       " 'company': None,\n",
       " 'blog': '',\n",
       " 'location': 'Minas Gerais, Brazil',\n",
       " 'email': None,\n",
       " 'hireable': None,\n",
       " 'bio': None,\n",
       " 'twitter_username': None,\n",
       " 'public_repos': 27,\n",
       " 'public_gists': 0,\n",
       " 'followers': 122,\n",
       " 'following': 31,\n",
       " 'created_at': '2020-08-09T22:03:04Z',\n",
       " 'updated_at': '2024-10-09T17:43:29Z'}"
      ]
     },
     "execution_count": 3,
     "metadata": {},
     "output_type": "execute_result"
    }
   ],
   "source": [
    "r.json()"
   ]
  },
  {
   "cell_type": "markdown",
   "metadata": {},
   "source": [
    "Para visualizar no formato de string:"
   ]
  },
  {
   "cell_type": "code",
   "execution_count": 4,
   "metadata": {},
   "outputs": [
    {
     "data": {
      "text/plain": [
       "'{\"login\":\"millenagena\",\"id\":69437878,\"node_id\":\"MDQ6VXNlcjY5NDM3ODc4\",\"avatar_url\":\"https://avatars.githubusercontent.com/u/69437878?v=4\",\"gravatar_id\":\"\",\"url\":\"https://api.github.com/users/millenagena\",\"html_url\":\"https://github.com/millenagena\",\"followers_url\":\"https://api.github.com/users/millenagena/followers\",\"following_url\":\"https://api.github.com/users/millenagena/following{/other_user}\",\"gists_url\":\"https://api.github.com/users/millenagena/gists{/gist_id}\",\"starred_url\":\"https://api.github.com/users/millenagena/starred{/owner}{/repo}\",\"subscriptions_url\":\"https://api.github.com/users/millenagena/subscriptions\",\"organizations_url\":\"https://api.github.com/users/millenagena/orgs\",\"repos_url\":\"https://api.github.com/users/millenagena/repos\",\"events_url\":\"https://api.github.com/users/millenagena/events{/privacy}\",\"received_events_url\":\"https://api.github.com/users/millenagena/received_events\",\"type\":\"User\",\"user_view_type\":\"public\",\"site_admin\":false,\"name\":\"Millena Gená\",\"company\":null,\"blog\":\"\",\"location\":\"Minas Gerais, Brazil\",\"email\":null,\"hireable\":null,\"bio\":null,\"twitter_username\":null,\"public_repos\":27,\"public_gists\":0,\"followers\":122,\"following\":31,\"created_at\":\"2020-08-09T22:03:04Z\",\"updated_at\":\"2024-10-09T17:43:29Z\"}'"
      ]
     },
     "execution_count": 4,
     "metadata": {},
     "output_type": "execute_result"
    }
   ],
   "source": [
    "r.text"
   ]
  },
  {
   "cell_type": "markdown",
   "metadata": {},
   "source": [
    "3 - URL utilizada"
   ]
  },
  {
   "cell_type": "code",
   "execution_count": 5,
   "metadata": {},
   "outputs": [
    {
     "data": {
      "text/plain": [
       "'https://api.github.com/users/millenagena'"
      ]
     },
     "execution_count": 5,
     "metadata": {},
     "output_type": "execute_result"
    }
   ],
   "source": [
    "r.url"
   ]
  },
  {
   "cell_type": "markdown",
   "metadata": {},
   "source": [
    "Analisando o conteúdo retornado pela requisição e selecionando campos específicos\n",
    "\n",
    "Para selecionarmos campos específicos do conteúdo em JSON, nós podemos utilizar colchetes e entre aspas passar o nome do campo desejado.\n",
    "\n",
    "1 - Nome "
   ]
  },
  {
   "cell_type": "code",
   "execution_count": 6,
   "metadata": {},
   "outputs": [
    {
     "data": {
      "text/plain": [
       "'Millena Gená'"
      ]
     },
     "execution_count": 6,
     "metadata": {},
     "output_type": "execute_result"
    }
   ],
   "source": [
    "r.json()['name']"
   ]
  },
  {
   "cell_type": "markdown",
   "metadata": {},
   "source": [
    "2 - Nome de usuário"
   ]
  },
  {
   "cell_type": "code",
   "execution_count": 7,
   "metadata": {},
   "outputs": [
    {
     "data": {
      "text/plain": [
       "'millenagena'"
      ]
     },
     "execution_count": 7,
     "metadata": {},
     "output_type": "execute_result"
    }
   ],
   "source": [
    "r.json()['login']"
   ]
  },
  {
   "cell_type": "markdown",
   "metadata": {},
   "source": [
    "3 - Número de repositórios públicos"
   ]
  },
  {
   "cell_type": "code",
   "execution_count": 8,
   "metadata": {},
   "outputs": [
    {
     "data": {
      "text/plain": [
       "27"
      ]
     },
     "execution_count": 8,
     "metadata": {},
     "output_type": "execute_result"
    }
   ],
   "source": [
    "r.json()['public_repos']"
   ]
  },
  {
   "cell_type": "markdown",
   "metadata": {},
   "source": [
    "4 - Data de criação da conta no GitHub"
   ]
  },
  {
   "cell_type": "code",
   "execution_count": 9,
   "metadata": {},
   "outputs": [
    {
     "data": {
      "text/plain": [
       "'2020-08-09T22:03:04Z'"
      ]
     },
     "execution_count": 9,
     "metadata": {},
     "output_type": "execute_result"
    }
   ],
   "source": [
    "r.json()['created_at']"
   ]
  },
  {
   "cell_type": "code",
   "execution_count": null,
   "metadata": {},
   "outputs": [],
   "source": []
  }
 ],
 "metadata": {
  "kernelspec": {
   "display_name": "venv",
   "language": "python",
   "name": "python3"
  },
  "language_info": {
   "codemirror_mode": {
    "name": "ipython",
    "version": 3
   },
   "file_extension": ".py",
   "mimetype": "text/x-python",
   "name": "python",
   "nbconvert_exporter": "python",
   "pygments_lexer": "ipython3",
   "version": "3.10.12"
  }
 },
 "nbformat": 4,
 "nbformat_minor": 2
}
